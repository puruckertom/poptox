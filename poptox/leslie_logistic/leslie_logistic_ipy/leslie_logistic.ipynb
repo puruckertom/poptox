{
 "cells": [
  {
   "cell_type": "code",
   "execution_count": 1,
   "metadata": {
    "collapsed": true
   },
   "outputs": [],
   "source": [
    "import numpy as np"
   ]
  },
  {
   "cell_type": "code",
   "execution_count": 2,
   "metadata": {
    "collapsed": true
   },
   "outputs": [],
   "source": [
    "stages = 3\n",
    "time_steps = 10\n",
    "out_pop_matrix = np.zeros(shape=(stages, time_steps + 1), dtype=float)"
   ]
  },
  {
   "cell_type": "code",
   "execution_count": 4,
   "metadata": {
    "collapsed": true
   },
   "outputs": [],
   "source": [
    "l_m_temp = np.zeros(shape=(stages, stages), dtype=float)"
   ]
  },
  {
   "cell_type": "code",
   "execution_count": 5,
   "metadata": {
    "collapsed": false
   },
   "outputs": [
    {
     "data": {
      "text/plain": [
       "130"
      ]
     },
     "execution_count": 5,
     "metadata": {},
     "output_type": "execute_result"
    }
   ],
   "source": [
    "init_pop_size = [40,50,40]\n",
    "total_pop = np.sum(init_pop_size)\n",
    "total_pop"
   ]
  },
  {
   "cell_type": "code",
   "execution_count": 9,
   "metadata": {
    "collapsed": false
   },
   "outputs": [
    {
     "data": {
      "text/plain": [
       "array([[ 40.,   0.,   0.,   0.,   0.,   0.,   0.,   0.,   0.,   0.,   0.],\n",
       "       [ 50.,   0.,   0.,   0.,   0.,   0.,   0.,   0.,   0.,   0.,   0.],\n",
       "       [ 40.,   0.,   0.,   0.,   0.,   0.,   0.,   0.,   0.,   0.,   0.]])"
      ]
     },
     "execution_count": 9,
     "metadata": {},
     "output_type": "execute_result"
    }
   ],
   "source": [
    "out_pop_matrix[:, 0] = init_pop_size\n",
    "out_pop_matrix"
   ]
  },
  {
   "cell_type": "code",
   "execution_count": 17,
   "metadata": {
    "collapsed": true
   },
   "outputs": [],
   "source": [
    "time_steps = 10\n",
    "init_conc = 10\n",
    "half_life = 2\n",
    "l_m = np.array([[ 0.,  1.5,  0.],\n",
    "       [ 0.8,  0.,  0.],\n",
    "       [ 0.,  0.8,  0.]])\n",
    "logistic_a = 0.746\n",
    "logistic_b = 0.617\n",
    "logistic_gamma = 0.00548"
   ]
  },
  {
   "cell_type": "code",
   "execution_count": 18,
   "metadata": {
    "collapsed": false
   },
   "outputs": [],
   "source": [
    "for i in range(1, time_steps + 1):\n",
    "    for j in range(0, stages):\n",
    "        l_m_temp[0, j] = l_m[0, j] * np.exp(-logistic_gamma * total_pop)\n",
    "        if j - 1 >= 0:\n",
    "            denom = 1 + np.exp(-logistic_a * np.log(init_conc * 0.5 ** (i/half_life)) - logistic_b)\n",
    "            m48 = 1/denom\n",
    "            l_m_temp[j, j - 1] = l_m[j, j - 1] * (1 - m48)\n",
    "    n = np.dot(l_m_temp, out_pop_matrix[:, i - 1])\n",
    "    total_pop = np.sum(n)\n",
    "    n_o = n\n",
    "    out_pop_matrix[:, i] = n.squeeze()"
   ]
  },
  {
   "cell_type": "code",
   "execution_count": 19,
   "metadata": {
    "collapsed": false
   },
   "outputs": [
    {
     "data": {
      "text/plain": [
       "array([[  4.00000000e+01,   7.49999538e+01,   3.39364362e+00,\n",
       "          1.17629402e+01,   6.57576893e-01,   2.97649615e+00,\n",
       "          2.01819215e-01,   1.11400398e+00,   8.93339217e-02,\n",
       "          5.78324982e-01,   5.31662025e-02],\n",
       "       [  5.00000000e+01,   3.56586220e+00,   8.38302763e+00,\n",
       "          4.71787840e-01,   2.01449274e+00,   1.37177139e-01,\n",
       "          7.46680396e-01,   6.00133197e-02,   3.86600983e-01,\n",
       "          3.55936118e-02,   2.60177478e-01],\n",
       "       [  4.00000000e+01,   4.45732776e+00,   3.98569864e-01,\n",
       "          1.16541716e+00,   8.07972463e-02,   4.20243402e-01,\n",
       "          3.44120992e-02,   2.22034207e-01,   2.08268630e-02,\n",
       "          1.54034717e-01,   1.60128932e-02]])"
      ]
     },
     "execution_count": 19,
     "metadata": {},
     "output_type": "execute_result"
    }
   ],
   "source": [
    "out_pop_matrix"
   ]
  },
  {
   "cell_type": "code",
   "execution_count": null,
   "metadata": {
    "collapsed": true
   },
   "outputs": [],
   "source": []
  }
 ],
 "metadata": {
  "kernelspec": {
   "display_name": "Python 3",
   "language": "python",
   "name": "python3"
  },
  "language_info": {
   "codemirror_mode": {
    "name": "ipython",
    "version": 3
   },
   "file_extension": ".py",
   "mimetype": "text/x-python",
   "name": "python",
   "nbconvert_exporter": "python",
   "pygments_lexer": "ipython3",
   "version": "3.4.4"
  }
 },
 "nbformat": 4,
 "nbformat_minor": 0
}
