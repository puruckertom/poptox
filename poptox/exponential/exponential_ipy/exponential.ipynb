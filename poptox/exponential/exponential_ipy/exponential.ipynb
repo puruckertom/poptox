{
 "cells": [
  {
   "cell_type": "code",
   "execution_count": 44,
   "metadata": {
    "collapsed": true
   },
   "outputs": [],
   "source": [
    "import pandas as pd\n",
    "import numpy as np"
   ]
  },
  {
   "cell_type": "code",
   "execution_count": 56,
   "metadata": {
    "collapsed": false
   },
   "outputs": [],
   "source": [
    "init_pop_size = pd.Series([30], dtype=\"float\")\n",
    "growth_rate = pd.Series([1.1], dtype=\"float\")\n",
    "time_steps = pd.Series([10], dtype=\"float\")"
   ]
  },
  {
   "cell_type": "code",
   "execution_count": 57,
   "metadata": {
    "collapsed": false
   },
   "outputs": [],
   "source": [
    "#out_pop_time_series = pd.Series(name=\"out_pop_time_series\")\n",
    "out_pop_time_series = []"
   ]
  },
  {
   "cell_type": "code",
   "execution_count": 58,
   "metadata": {
    "collapsed": false
   },
   "outputs": [],
   "source": [
    "def exponential_growth(self, idx):\n",
    "    index_set = range(time_steps[idx] + 1)\n",
    "    x = np.zeros(len(index_set))\n",
    "    x[0] = init_pop_size[idx]\n",
    "    for n in index_set[1:]:\n",
    "        x[n] = init_pop_size[idx] * np.exp(growth_rate[idx] / 100 * n)\n",
    "    t = range(0,time_steps[idx])\n",
    "    out_pop_time_series[idx] = dict(zip(t,x))\n",
    "    return"
   ]
  },
  {
   "cell_type": "code",
   "execution_count": 59,
   "metadata": {
    "collapsed": false
   },
   "outputs": [],
   "source": [
    "def batch_exponential(self):\n",
    "    for idx in enumerate(init_pop_size):\n",
    "        exponential_growth(idx)\n",
    "    return"
   ]
  },
  {
   "cell_type": "code",
   "execution_count": 60,
   "metadata": {
    "collapsed": false
   },
   "outputs": [
    {
     "data": {
      "text/plain": [
       "[]"
      ]
     },
     "execution_count": 60,
     "metadata": {},
     "output_type": "execute_result"
    }
   ],
   "source": [
    "out_pop_time_series"
   ]
  },
  {
   "cell_type": "code",
   "execution_count": null,
   "metadata": {
    "collapsed": true
   },
   "outputs": [],
   "source": []
  }
 ],
 "metadata": {
  "kernelspec": {
   "display_name": "Python 3",
   "language": "python",
   "name": "python3"
  },
  "language_info": {
   "codemirror_mode": {
    "name": "ipython",
    "version": 3
   },
   "file_extension": ".py",
   "mimetype": "text/x-python",
   "name": "python",
   "nbconvert_exporter": "python",
   "pygments_lexer": "ipython3",
   "version": "3.4.4"
  }
 },
 "nbformat": 4,
 "nbformat_minor": 0
}
